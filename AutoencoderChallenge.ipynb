{
 "cells": [
  {
   "cell_type": "markdown",
   "metadata": {
    "id": "YFZXIuNa2VkB"
   },
   "source": [
    "# Practical Machine Learning for Physicists\n",
    "## Autoencoder Challenge\n"
   ]
  },
  {
   "cell_type": "markdown",
   "metadata": {
    "id": "aoiJoDL_2VkD"
   },
   "source": [
    "For both of these tasks we want you to implement autoencoder networks that:\n",
    "- Train on randomly generated circles (using the circle_generator function below)\n",
    "- Use 27x27 pixel images\n",
    "- Use no more than 30,000 randomly generated samples (e.g. batchsize 30 and 1000 steps, or batchsize 1000 and 30 steps, or anywhere inbetween) in training the final networks for each task\n",
    "- Use the mean_squared_error loss function\n",
    "- Fulfil the network size requirement listed in the task (can be verifired using the print_layers function, after the network is partially trained)\n",
    "\n",
    "### Task 1:\n",
    "Implement any network design, but the bottleneck must contain no more than 9 neurons.\n",
    "\n",
    "### Task 2:\n",
    "Implement any network design, but the bottleneck must contain no more than 3 neurons.\n",
    "\n",
    "\n",
    "\n",
    "#### Practicalities\n",
    "You should use this notebook for your work and upload it to both Moodle and CoCalc. You are expected to use TensorFlow and Keras to complete these tasks. The notebook should be self-contained and able to be executed if necessary. Marks will be awarded for (roughly equally weighted):\n",
    "- Overall notebook clarity (both in terms of good coding practice and coherent discussion)\n",
    "- Task 1 performance (0.02 is a good target cost to do better than)\n",
    "- Task 2 performance ( a good target here is left for the student to determine)\n",
    "\n"
   ]
  },
  {
   "cell_type": "markdown",
   "metadata": {
    "id": "dcpixbhqFHa8"
   },
   "source": [
    "# Start of Exercise\n",
    "\n",
    "Before starting the tasks, the necessary libraries need to be imported. This cell block is copied from `Week4_ConvolutionalNeuralNetwork.ipynb` from Moodle. "
   ]
  },
  {
   "cell_type": "code",
   "execution_count": null,
   "metadata": {
    "colab": {
     "base_uri": "https://localhost:8080/"
    },
    "id": "UoQ-MlFJ2VkD",
    "outputId": "236a17cc-735d-4b3f-ad9f-d37cb43524b8"
   },
   "outputs": [
    {
     "name": "stdout",
     "output_type": "stream",
     "text": [
      "2.6.0\n"
     ]
    }
   ],
   "source": [
    "import matplotlib.pyplot as plt\n",
    "import numpy as np\n",
    "import math\n",
    "\n",
    "# TensorFlow and tf.keras\n",
    "import tensorflow as tf\n",
    "from tensorflow import keras\n",
    "\n",
    "import matplotlib.style #Some style nonsense\n",
    "import matplotlib as mpl #Some more style nonsense\n",
    "\n",
    "#Set default figure size\n",
    "#mpl.rcParams['figure.figsize'] = [12.0, 8.0] #Inches... of course it is inches\n",
    "mpl.rcParams[\"legend.frameon\"] = False\n",
    "mpl.rcParams['figure.dpi']=200 # dots per inch\n",
    "\n",
    "#Useful for debugging problems\n",
    "print(tf.__version__)"
   ]
  },
  {
   "cell_type": "markdown",
   "metadata": {
    "id": "nzLvu7FWF5E_"
   },
   "source": [
    "This block of code is copied from `Week4_Autoencoder.ipynb`. Basically, there are 6 functions that are defined in this code cell. \n",
    "\n",
    "The most important is `generate_and_train`, which is the function that is used to train our model. `model` is the model built using keras, `image_generator` is the image generator function that will be defined later, `img_size` is the image size in pixels, we will use 27 for img_size as our image is 27x27 pixels in size. `batchsize` is the number of images per step. `steps` is the amount of training batches. \n",
    "\n",
    "`get_test_image` generates a test image from the image generator function, this will be used as a reference for what the generated images will look like. In our case, it will be a circle of random size and random position. \n",
    "\n",
    "`plot_test_image` outputs an image using the model, it will be used after our model is trained to see how visually accurate our model is. \n",
    "\n",
    "`print_layers` will be called after the model is trained. It will output the layers of the network so that we can see how many neurons are in each layer. This will be used to check that we have the correct amount of neurons in the \"bottleneck\" that is required by each task. \n",
    "\n",
    "I didn't use `get_layer_activation_extractor` or `get_layer_activations` but they can be useful to visualise the network layers. \n",
    "\n",
    "\n"
   ]
  },
  {
   "cell_type": "code",
   "execution_count": null,
   "metadata": {
    "id": "ZJbxu5fl2VkK"
   },
   "outputs": [],
   "source": [
    "#A big messy function to do the training\n",
    "# model -- our keras neural model autoencoder\n",
    "# image_generator -- a function to generate random images for the training (see below for examples)\n",
    "# img_size -- the size of our image in pixels\n",
    "# batchsize -- the number of images to include in each training batch\n",
    "# steps -- the number of steps taken in the training\n",
    "#\n",
    "# returns an array of the costs\n",
    "def generate_and_train(model,image_generator,img_size,batchsize,steps):\n",
    "   \n",
    "    #Generate an array of the numbers 1 to img_size and create a meshgrid from them    \n",
    "    pixels=np.linspace(-1,1,img_size)\n",
    "    x,y=np.meshgrid(pixels,pixels)\n",
    "    \n",
    "    #Now create a test image using 1 call to image_generator\n",
    "    #y_test=np.zeros([1,pixels,pixels,1])\n",
    "    #y_test[:,:,:,0]=image_generator(1,x,y)\n",
    "    \n",
    "    #Now create the empty arrays for the images and cost\n",
    "    y_in=np.zeros([batchsize,img_size,img_size,1])\n",
    "    y_target=np.zeros([batchsize,img_size,img_size,1])\n",
    "    cost=np.zeros(steps)\n",
    "    \n",
    "    #Loop through the steps, get a random batch of samples, train the model, repeat\n",
    "    for k in range(steps):\n",
    "        # produce samples:\n",
    "        y_in[:,:,:,0]=image_generator(batchsize,x,y)\n",
    "        y_target=np.copy(y_in) # autoencoder wants to reproduce its input!\n",
    "        \n",
    "        # do one training step on this batch of samples:\n",
    "        cost[k]=model.train_on_batch(y_in,y_target)\n",
    "    \n",
    "    return cost,y_target\n",
    "\n",
    "def get_test_image(image_generator,img_size):\n",
    "    #Generate an array of the numbers 1 to img_size and create a meshgrid from them    \n",
    "    pixels=np.linspace(-1,1,img_size)\n",
    "    x,y=np.meshgrid(pixels,pixels)\n",
    "    \n",
    "    #Now create a test image using 1 call to image_generator\n",
    "    y_test=np.zeros([1,img_size,img_size,1])\n",
    "    y_test[:,:,:,0]=image_generator(1,x,y)\n",
    "    return y_test\n",
    "\n",
    "# A function to generate and plot a single test image and the output of our model\n",
    "# only to be called after training the model\n",
    "def plot_test_image(model,image_generator,img_size):\n",
    "    #Get random test image\n",
    "    y_test=get_test_image(image_generator,img_size)\n",
    "    \n",
    "    #Create the output image\n",
    "    y_test_out=model.predict_on_batch(y_test)\n",
    "    fig, ax = plt.subplots(1,2)\n",
    "    ax[0].imshow(y_test[0,:,:,0],origin='lower')\n",
    "    ax[0].set_title(\"Input\")\n",
    "    ax[1].imshow(y_test_out[0,:,:,0],origin='lower')\n",
    "    ax[1].set_title(\"Output\")\n",
    "    \n",
    "def print_layers(network, y_in):\n",
    "    \"\"\"\n",
    "    Call this on some test images y_in, to get a print-out of\n",
    "    the layer sizes. Shapes shown are (batchsize,pixels,pixels,channels).\n",
    "    After a call to the visualization routine, y_target will contain\n",
    "    the last set of training images, so you could feed those in here.\n",
    "    \"\"\"\n",
    "    layer_features=get_layer_activations(network,y_in)\n",
    "    #print(layer_features)\n",
    "    for idx,feature in enumerate(layer_features):\n",
    "        s=np.shape(feature)\n",
    "        print(\"Layer \"+str(idx)+\": \"+str(s[1]*s[2]*s[3])+\" neurons / \", s)\n",
    "\n",
    "def get_layer_activation_extractor(network):\n",
    "    #print(network.inputs)\n",
    "    #for layer in network.layers:\n",
    "    #    print(layer.output)\n",
    "    return(keras.Model(inputs=network.inputs,\n",
    "                            outputs=[layer.output for layer in network.layers]))\n",
    "\n",
    "def get_layer_activations(network, y_in):\n",
    "    \"\"\"\n",
    "    Call this on some test images y_in, to get the intermediate \n",
    "    layer neuron values. These are returned in a list, with one\n",
    "    entry for each layer (the entries are arrays).\n",
    "    \"\"\"\n",
    "    extractor=get_layer_activation_extractor(network)\n",
    "    #print(extractor)\n",
    "    layer_features = extractor(y_in)\n",
    "    return layer_features\n",
    "    "
   ]
  },
  {
   "cell_type": "markdown",
   "metadata": {
    "id": "ibH-gVVr2VkL"
   },
   "source": [
    "## Circle generator\n",
    "This function generates a random sized circle at a random position. It will be used to generate however many images required to train our model."
   ]
  },
  {
   "cell_type": "code",
   "execution_count": null,
   "metadata": {
    "id": "z9mbM3Zp2VkM"
   },
   "outputs": [],
   "source": [
    "# A simple image generator that returns an array of batchsize images\n",
    "# each image has a size of x * y pixels\n",
    "# in this image each image has a randomly placed circle (and the circle is of random size)\n",
    "def circle_generator(batchsize,x,y):\n",
    "    R=np.random.uniform(size=batchsize)\n",
    "    x0=np.random.uniform(size=batchsize,low=-1,high=1)\n",
    "    y0=np.random.uniform(size=batchsize,low=-1,high=1)\n",
    "    return( 1.0*((x[None,:,:]-x0[:,None,None])**2 + (y[None,:,:]-y0[:,None,None])**2 < R[:,None,None]**2) )\n"
   ]
  },
  {
   "cell_type": "markdown",
   "metadata": {
    "id": "xhJkJ_NpNH7w"
   },
   "source": [
    "## Task 1\n",
    "\n",
    "`model2` is the autoencoder with a bottleneck of 9 neurons. The code is copied from `Week4_autoencoder.ipynb` and modified. I changed all the activations from \"Sigmoid\" to \"relu\", which seems to provide lower loss values based on testing. This model uses Conv2D, AveragePooling2D, and UpSampling2D layers. `Conv2D` is a convolution layer. `AveragePooling2D` downsamples the input along its spatial dimensions (height and width) by taking the average value over an input window (of size defined by pool_size) for each channel of the input (from https://www.tensorflow.org/api_docs/python/tf/keras/layers/AveragePooling2D). `UpSampling2D` upsamples 2D inputs by repeating the rows and columns of the data by size[0] and size[1] respectively (from https://www.tensorflow.org/api_docs/python/tf/keras/layers/UpSampling2D)"
   ]
  },
  {
   "cell_type": "code",
   "execution_count": null,
   "metadata": {
    "colab": {
     "base_uri": "https://localhost:8080/"
    },
    "id": "jNWC-79D2VkM",
    "outputId": "c5d7f1d5-2e0a-40f2-a9a0-0983e18a5a1d"
   },
   "outputs": [
    {
     "name": "stdout",
     "output_type": "stream",
     "text": [
      "Model: \"sequential\"\n",
      "_________________________________________________________________\n",
      "Layer (type)                 Output Shape              Param #   \n",
      "=================================================================\n",
      "conv2d (Conv2D)              (None, None, None, 4)     104       \n",
      "_________________________________________________________________\n",
      "average_pooling2d (AveragePo (None, None, None, 4)     0         \n",
      "_________________________________________________________________\n",
      "conv2d_1 (Conv2D)            (None, None, None, 4)     404       \n",
      "_________________________________________________________________\n",
      "average_pooling2d_1 (Average (None, None, None, 4)     0         \n",
      "_________________________________________________________________\n",
      "conv2d_2 (Conv2D)            (None, None, None, 1)     37        \n",
      "_________________________________________________________________\n",
      "up_sampling2d (UpSampling2D) (None, None, None, 1)     0         \n",
      "_________________________________________________________________\n",
      "conv2d_3 (Conv2D)            (None, None, None, 4)     104       \n",
      "_________________________________________________________________\n",
      "up_sampling2d_1 (UpSampling2 (None, None, None, 4)     0         \n",
      "_________________________________________________________________\n",
      "conv2d_4 (Conv2D)            (None, None, None, 4)     404       \n",
      "_________________________________________________________________\n",
      "conv2d_5 (Conv2D)            (None, None, None, 3)     111       \n",
      "=================================================================\n",
      "Total params: 1,164\n",
      "Trainable params: 1,164\n",
      "Non-trainable params: 0\n",
      "_________________________________________________________________\n"
     ]
    }
   ],
   "source": [
    "model2=keras.models.Sequential()\n",
    "# 3x3 kernel size, 10 channels in first hidden layer:\n",
    "model2.add(keras.layers.Conv2D(4,5,input_shape=(None,None,1),activation=\"relu\",padding='same'))\n",
    "model2.add(keras.layers.AveragePooling2D(pool_size=(3,3),padding='same')) # down\n",
    "model2.add(keras.layers.Conv2D(4,5,activation=\"relu\",padding='same'))\n",
    "model2.add(keras.layers.AveragePooling2D(pool_size=(3,3),padding='same')) # down\n",
    "model2.add(keras.layers.Conv2D(1,3,activation=\"relu\",padding='same'))\n",
    "model2.add(keras.layers.UpSampling2D(size=(3,3))) # up\n",
    "model2.add(keras.layers.Conv2D(4,5,activation=\"relu\",padding='same'))\n",
    "model2.add(keras.layers.UpSampling2D(size=(3,3))) # up\n",
    "model2.add(keras.layers.Conv2D(4,5,activation=\"relu\",padding='same'))\n",
    "model2.add(keras.layers.Conv2D(3,3,activation=\"relu\",padding='same'))\n",
    "model2.compile(loss='mean_squared_error',optimizer='adam')\n",
    "model2.summary()"
   ]
  },
  {
   "cell_type": "markdown",
   "metadata": {
    "id": "PicJslpZQwUp"
   },
   "source": [
    "Code copied and modified from `Week4_Autoencoder.ipynb`, The steps are changed to 3000 and batchsize is changed to 10 to satisfy the 30000 sample limit. "
   ]
  },
  {
   "cell_type": "code",
   "execution_count": null,
   "metadata": {
    "colab": {
     "base_uri": "https://localhost:8080/",
     "height": 296
    },
    "id": "jmL-gF8tMiJL",
    "outputId": "959825cd-7440-4f05-a4ef-12ac0c495dca"
   },
   "outputs": [
    {
     "data": {
      "text/plain": [
       "Text(0, 0.5, 'Cost')"
      ]
     },
     "execution_count": 5,
     "metadata": {},
     "output_type": "execute_result"
    },
    {
     "data": {
      "image/png": "[encoded data removed]",
      "text/plain": [
       "<Figure size 432x288 with 1 Axes>"
      ]
     },
     "metadata": {
      "needs_background": "light"
     },
     "output_type": "display_data"
    }
   ],
   "source": [
    "#Now we can do the actual model training\n",
    "steps = 3000\n",
    "cost,y_target=generate_and_train(model2,circle_generator,img_size=27,batchsize=10,steps=steps)\n",
    "#Plot the cost\n",
    "fig, ax = plt.subplots()\n",
    "stepArray=np.arange(steps) \n",
    "ax.plot(stepArray,cost,linewidth=3) \n",
    "ax.set_xlabel(\"Step Number\") \n",
    "ax.set_ylabel(\"Cost\")"
   ]
  },
  {
   "cell_type": "markdown",
   "metadata": {
    "id": "lyTCGTCsRDF6"
   },
   "source": [
    "From the plot, it can be seen that the cost starts at around 0.25 and decreases significantly after a few hundred steps. The task requires the cost to be lower than 0.02, and the graph shows that this is the case. This can be confirmed by outputting the cost array. In the code cell below, it can be seen that the final cost is 0.0140, with the last 3 steps having a cost of 0.0103, 0.0117, 0.0140 respectively, which is comfortably below the target cost of 0.02. \n",
    "\n",
    "An example input and output of the network can be seen below, which shows the output recreating the original input quite well. "
   ]
  },
  {
   "cell_type": "code",
   "execution_count": null,
   "metadata": {
    "colab": {
     "base_uri": "https://localhost:8080/",
     "height": 233
    },
    "id": "KiSuDNDpMxOR",
    "outputId": "98759e3f-4700-4b5c-dc4a-45b2d3aaf077"
   },
   "outputs": [
    {
     "name": "stdout",
     "output_type": "stream",
     "text": [
      "[0.25663728 0.15842383 0.23850119 ... 0.01029237 0.01165256 0.01402771]\n"
     ]
    },
    {
     "data": {
      "image/png": "[encoded data removed]",
      "text/plain": [
       "<Figure size 432x288 with 2 Axes>"
      ]
     },
     "metadata": {
      "needs_background": "light"
     },
     "output_type": "display_data"
    }
   ],
   "source": [
    "print(cost)\n",
    "plot_test_image(model2,circle_generator,50)"
   ]
  },
  {
   "cell_type": "markdown",
   "metadata": {
    "id": "iYkT94KOTC3P"
   },
   "source": [
    "The code cell below shows the neurons per layer of the network `model2`. As required, the bottleneck layer has 9 neurons."
   ]
  },
  {
   "cell_type": "code",
   "execution_count": null,
   "metadata": {
    "colab": {
     "base_uri": "https://localhost:8080/"
    },
    "id": "1Xm2YzkDNK37",
    "outputId": "ab451f75-acf6-40de-d955-b04ddcd40e80"
   },
   "outputs": [
    {
     "name": "stdout",
     "output_type": "stream",
     "text": [
      "Layer 0: 2916 neurons /  (10, 27, 27, 4)\n",
      "Layer 1: 324 neurons /  (10, 9, 9, 4)\n",
      "Layer 2: 324 neurons /  (10, 9, 9, 4)\n",
      "Layer 3: 36 neurons /  (10, 3, 3, 4)\n",
      "Layer 4: 9 neurons /  (10, 3, 3, 1)\n",
      "Layer 5: 81 neurons /  (10, 9, 9, 1)\n",
      "Layer 6: 324 neurons /  (10, 9, 9, 4)\n",
      "Layer 7: 2916 neurons /  (10, 27, 27, 4)\n",
      "Layer 8: 2916 neurons /  (10, 27, 27, 4)\n",
      "Layer 9: 2187 neurons /  (10, 27, 27, 3)\n"
     ]
    }
   ],
   "source": [
    "print_layers(model2,y_target)"
   ]
  },
  {
   "cell_type": "markdown",
   "metadata": {
    "id": "4MeSKIW9TNb1"
   },
   "source": [
    "## Task 2\n",
    "\n",
    "`model3` is an autoencoder that has a bottleneck layer of 3 neurons. This network is similar to `model2` but has an extra downsampling layer to get to the required 3 neurons and also another upsampling layer for better results. "
   ]
  },
  {
   "cell_type": "code",
   "execution_count": null,
   "metadata": {
    "colab": {
     "base_uri": "https://localhost:8080/"
    },
    "id": "aFpCA3GHf-64",
    "outputId": "9b450869-a936-425d-9e21-36957728fa3b"
   },
   "outputs": [
    {
     "name": "stdout",
     "output_type": "stream",
     "text": [
      "Model: \"sequential_3\"\n",
      "_________________________________________________________________\n",
      "Layer (type)                 Output Shape              Param #   \n",
      "=================================================================\n",
      "conv2d_20 (Conv2D)           (None, None, None, 4)     104       \n",
      "_________________________________________________________________\n",
      "average_pooling2d_8 (Average (None, None, None, 4)     0         \n",
      "_________________________________________________________________\n",
      "conv2d_21 (Conv2D)           (None, None, None, 4)     404       \n",
      "_________________________________________________________________\n",
      "average_pooling2d_9 (Average (None, None, None, 4)     0         \n",
      "_________________________________________________________________\n",
      "conv2d_22 (Conv2D)           (None, None, None, 3)     111       \n",
      "_________________________________________________________________\n",
      "average_pooling2d_10 (Averag (None, None, None, 3)     0         \n",
      "_________________________________________________________________\n",
      "up_sampling2d_8 (UpSampling2 (None, None, None, 3)     0         \n",
      "_________________________________________________________________\n",
      "conv2d_23 (Conv2D)           (None, None, None, 4)     304       \n",
      "_________________________________________________________________\n",
      "up_sampling2d_9 (UpSampling2 (None, None, None, 4)     0         \n",
      "_________________________________________________________________\n",
      "conv2d_24 (Conv2D)           (None, None, None, 4)     404       \n",
      "_________________________________________________________________\n",
      "up_sampling2d_10 (UpSampling (None, None, None, 4)     0         \n",
      "_________________________________________________________________\n",
      "conv2d_25 (Conv2D)           (None, None, None, 4)     404       \n",
      "_________________________________________________________________\n",
      "conv2d_26 (Conv2D)           (None, None, None, 3)     111       \n",
      "=================================================================\n",
      "Total params: 1,842\n",
      "Trainable params: 1,842\n",
      "Non-trainable params: 0\n",
      "_________________________________________________________________\n"
     ]
    }
   ],
   "source": [
    "model3=keras.models.Sequential()\n",
    "# 3x3 kernel size, 10 channels in first hidden layer:\n",
    "model3.add(keras.layers.Conv2D(4,5,input_shape=(None,None,1),activation=\"relu\",padding='same'))\n",
    "model3.add(keras.layers.AveragePooling2D(pool_size=(3,3),padding='same')) # down\n",
    "model3.add(keras.layers.Conv2D(4,5,activation=\"relu\",padding='same'))\n",
    "model3.add(keras.layers.AveragePooling2D(pool_size=(3,3),padding='same')) # down\n",
    "model3.add(keras.layers.Conv2D(3,3,activation=\"relu\",padding='same'))\n",
    "model3.add(keras.layers.AveragePooling2D(pool_size=(3,3),padding='same')) # down\n",
    "model3.add(keras.layers.UpSampling2D(size=(3,3))) # up\n",
    "model3.add(keras.layers.Conv2D(4,5,activation=\"relu\",padding='same'))\n",
    "model3.add(keras.layers.UpSampling2D(size=(3,3))) # up\n",
    "model3.add(keras.layers.Conv2D(4,5,activation=\"relu\",padding='same'))\n",
    "model3.add(keras.layers.UpSampling2D(size=(3,3))) # up\n",
    "model3.add(keras.layers.Conv2D(4,5,activation=\"relu\",padding='same'))\n",
    "model3.add(keras.layers.Conv2D(3,3,activation=\"relu\",padding='same'))\n",
    "model3.compile(loss='mean_squared_error',optimizer='adam')\n",
    "model3.summary()"
   ]
  },
  {
   "cell_type": "markdown",
   "metadata": {
    "id": "zVNjanBqVUG8"
   },
   "source": [
    "The code cell below trains `model3`, I chose 3000 steps and 10 batchsize after trial and error of differnt combinations. This satisfies the 30000 sample images limit and from testing, provides the lowest cost. From the plot, the loss function is similar to the network with a 9 neuron bottleneck. "
   ]
  },
  {
   "cell_type": "code",
   "execution_count": null,
   "metadata": {
    "colab": {
     "base_uri": "https://localhost:8080/",
     "height": 296
    },
    "id": "29YvSvz34dQH",
    "outputId": "262498b2-159a-455c-a86d-57385dbb3f18"
   },
   "outputs": [
    {
     "data": {
      "text/plain": [
       "Text(0, 0.5, 'Cost')"
      ]
     },
     "execution_count": 15,
     "metadata": {},
     "output_type": "execute_result"
    },
    {
     "data": {
      "image/png": "[encoded data removed]",
      "text/plain": [
       "<Figure size 432x288 with 1 Axes>"
      ]
     },
     "metadata": {
      "needs_background": "light"
     },
     "output_type": "display_data"
    }
   ],
   "source": [
    "#Now we can do the actual model training\n",
    "steps = 3000\n",
    "cost,y_target=generate_and_train(model3,circle_generator,img_size=27,batchsize=10,steps=steps)\n",
    "#Plot the cost\n",
    "fig, ax = plt.subplots()\n",
    "stepArray=np.arange(steps) \n",
    "ax.plot(stepArray,cost,linewidth=3) \n",
    "ax.set_xlabel(\"Step Number\") \n",
    "ax.set_ylabel(\"Cost\")"
   ]
  },
  {
   "cell_type": "markdown",
   "metadata": {
    "id": "9QgBnfpRcVnv"
   },
   "source": [
    "By outputting the cost array, it can be seen that the last 3 steps of the training has a cost of 0.0122, 0.108, 0.0177, which satisfies even the cost requirement for the network with a 9 neuron bottleneck. This is surprising as I expected this network to have a higher cost as this network has downsamples the input image significantly to a (10, 1, 1, 3) shape. However, the output still maintains a cost similar to the 9 neuron bottleneck network which downsamples the input to (10, 3, 3, 1).\n",
    "\n",
    "Prior to training the network, I had a cost limit of 0.03 - 0.05 in mind; however, since this model exceeds the cost limit significantly, I would say a good target for this network with a 3 neuron bottleneck is 0.02. "
   ]
  },
  {
   "cell_type": "code",
   "execution_count": null,
   "metadata": {
    "colab": {
     "base_uri": "https://localhost:8080/"
    },
    "id": "a1ELeLkA4nFO",
    "outputId": "8f0da2c3-2064-4e9b-940b-2d4e3f922130"
   },
   "outputs": [
    {
     "name": "stdout",
     "output_type": "stream",
     "text": [
      "[0.17020062 0.11019002 0.23044233 ... 0.01221573 0.01080084 0.01774201]\n",
      "Layer 0: 2916 neurons /  (10, 27, 27, 4)\n",
      "Layer 1: 324 neurons /  (10, 9, 9, 4)\n",
      "Layer 2: 324 neurons /  (10, 9, 9, 4)\n",
      "Layer 3: 36 neurons /  (10, 3, 3, 4)\n",
      "Layer 4: 27 neurons /  (10, 3, 3, 3)\n",
      "Layer 5: 3 neurons /  (10, 1, 1, 3)\n",
      "Layer 6: 27 neurons /  (10, 3, 3, 3)\n",
      "Layer 7: 36 neurons /  (10, 3, 3, 4)\n",
      "Layer 8: 324 neurons /  (10, 9, 9, 4)\n",
      "Layer 9: 324 neurons /  (10, 9, 9, 4)\n",
      "Layer 10: 2916 neurons /  (10, 27, 27, 4)\n",
      "Layer 11: 2916 neurons /  (10, 27, 27, 4)\n",
      "Layer 12: 2187 neurons /  (10, 27, 27, 3)\n"
     ]
    }
   ],
   "source": [
    "print(cost)\n",
    "print_layers(model3,y_target)"
   ]
  },
  {
   "cell_type": "markdown",
   "metadata": {
    "id": "-7DAoJX5eOQQ"
   },
   "source": [
    "The test image below shows the input image using the circle_generator function and the output using `model3`. The recreated image represents the original quite well considering the bottleneck, but the position and shape of the circle are not very accurate and the model also outputs something below the circle. "
   ]
  },
  {
   "cell_type": "code",
   "execution_count": null,
   "metadata": {
    "colab": {
     "base_uri": "https://localhost:8080/",
     "height": 216
    },
    "id": "bVRXR_NR48Q-",
    "outputId": "45ff0165-d77c-4757-f3f1-f1d24385c9f3"
   },
   "outputs": [
    {
     "data": {
      "image/png": "[encoded data removed]",
      "text/plain": [
       "<Figure size 432x288 with 2 Axes>"
      ]
     },
     "metadata": {
      "needs_background": "light"
     },
     "output_type": "display_data"
    }
   ],
   "source": [
    "plot_test_image(model3,circle_generator,50)"
   ]
  }
 ],
 "metadata": {
  "colab": {
   "name": "AutoencoderChallenge_19010988.ipynb",
   "provenance": []
  },
  "kernelspec": {
   "display_name": "Python 3.9.13 64-bit (microsoft store)",
   "language": "python",
   "name": "python3"
  },
  "language_info": {
   "codemirror_mode": {
    "name": "ipython",
    "version": 3
   },
   "file_extension": ".py",
   "mimetype": "text/x-python",
   "name": "python",
   "nbconvert_exporter": "python",
   "pygments_lexer": "ipython3",
   "version": "3.9.13"
  },
  "vscode": {
   "interpreter": {
    "hash": "7a4b6b38d65c8ce39517693705c1e3caebe0aafa54430dabf5f2c797f3b35de8"
   }
  }
 },
 "nbformat": 4,
 "nbformat_minor": 1
}
