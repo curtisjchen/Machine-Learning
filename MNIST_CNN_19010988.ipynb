{
 "cells": [
  {
   "cell_type": "markdown",
   "metadata": {
    "id": "MtB0huSz2QPH"
   },
   "source": [
    "# Practical Machine Learning for Physicists\n",
    "## Week 4 Exercise - Part 1 - Training Convolution Neural Networks using the MNIST Database"
   ]
  },
  {
   "cell_type": "markdown",
   "metadata": {
    "id": "9cutQmuV2QPI"
   },
   "source": [
    "### Task 1:\n",
    "Design, implement and test a neural network utilising a single convolutional layer (use as many other non convolutional layers as you need) to classify the MNIST handwritten digits. What is the maximum test accuracry you can achieve using a single convolutional layer?\n",
    "\n",
    "### Task 2:\n",
    "Design, implement and test a neural network utitlising multiple convolutional layers (again use as many other non convolutinal laters as you need) to classify the MNIST handwritten digits. What is the maximum test accuracry you can achieve using as many convolutional layers as you like?\n",
    "\n",
    "#### Practicalities\n",
    "You should use this notebook for your work and upload it to both Moodle and CoCalc. You are expected to use TensorFlow and Keras to complete these takss. The notebook should be self-contained and able to be executed if necessary. Marks will be awarded for (roughly equally weighted):\n",
    "- Overall notebook clarity (both in terms of good coding practice and coherent discussion)\n",
    "- Network performance (how well does your classifier do?)\n",
    "- Network efficiency (how does your network compare to the optimum networks for this task?)\n",
    "- Network training (do you do a good job of traning your network?)\n"
   ]
  },
  {
   "cell_type": "markdown",
   "metadata": {
    "id": "1n9cUGSYS5h-"
   },
   "source": [
    "# Start of Exercise\n",
    "\n",
    "Before starting the tasks, the necessary libraries need to be imported. This cell block is copied from `Week4_ConvolutionalNeuralNetwork.ipynb` from Moodle."
   ]
  },
  {
   "cell_type": "code",
   "execution_count": 1,
   "metadata": {
    "colab": {
     "base_uri": "https://localhost:8080/"
    },
    "id": "NXAhJK2J2QPJ",
    "outputId": "26cd2010-f4b1-4457-cb23-78b17a3d89d0"
   },
   "outputs": [
    {
     "name": "stdout",
     "output_type": "stream",
     "text": [
      "2.6.0\n"
     ]
    }
   ],
   "source": [
    "import matplotlib.pyplot as plt\n",
    "import numpy as np\n",
    "import math\n",
    "\n",
    "# TensorFlow and tf.keras\n",
    "import tensorflow as tf\n",
    "from tensorflow import keras\n",
    "\n",
    "import matplotlib.style #Some style nonsense\n",
    "import matplotlib as mpl #Some more style nonsense\n",
    "\n",
    "\n",
    "#Set default figure size\n",
    "#mpl.rcParams['figure.figsize'] = [8, 6] #Inches... of course it is inches\n",
    "mpl.rcParams[\"legend.frameon\"] = False\n",
    "mpl.rcParams['figure.dpi']=200 # dots per inch\n",
    "\n",
    "#Useful for debugging problems\n",
    "print(tf.__version__)"
   ]
  },
  {
   "cell_type": "markdown",
   "metadata": {
    "id": "TLYYXnXOTVc9"
   },
   "source": [
    "Importing the MNIST handwritten dataset, same as last week."
   ]
  },
  {
   "cell_type": "code",
   "execution_count": 2,
   "metadata": {
    "id": "8cA5nBerCqi2"
   },
   "outputs": [],
   "source": [
    "mnist = keras.datasets.mnist   #The original handwritten digit MNIST\n",
    "#mnist = keras.datasets.fashion_mnist   #A tricky version that uses images of fashion items\n",
    "(train_images, train_labels), (test_images, test_labels) = mnist.load_data()"
   ]
  },
  {
   "cell_type": "markdown",
   "metadata": {
    "id": "yCig6V5WTaZZ"
   },
   "source": [
    "Outputting the shapes of the training & testing images arrays, and also the corresponding image labels (i.e. 0,1,2,3,...,9) just for reference. "
   ]
  },
  {
   "cell_type": "code",
   "execution_count": 3,
   "metadata": {
    "colab": {
     "base_uri": "https://localhost:8080/"
    },
    "id": "N7R3zVWNDoWU",
    "outputId": "8da3645b-9058-4f48-b399-3ebd9aa0220b"
   },
   "outputs": [
    {
     "name": "stdout",
     "output_type": "stream",
     "text": [
      "Shape of training images: (60000, 28, 28)\n",
      "Length of training set labels: 60000\n",
      "First label: 5\n",
      "Shape of testing images: (10000, 28, 28)\n",
      "Length of testing set labels: 10000\n",
      "(28, 28)\n"
     ]
    }
   ],
   "source": [
    "print(\"Shape of training images:\",train_images.shape)\n",
    "print(\"Length of training set labels:\",len(train_labels))\n",
    "print(\"First label:\",train_labels[0])\n",
    "print(\"Shape of testing images:\",test_images.shape)\n",
    "print(\"Length of testing set labels:\",len(test_labels))\n",
    "\n",
    "input_shape=train_images[0].shape\n",
    "print(input_shape)"
   ]
  },
  {
   "cell_type": "markdown",
   "metadata": {
    "id": "xi47Z1szTtD7"
   },
   "source": [
    "## Task 1 \n",
    "Creating a neural network using 1 convolutional layer. The `Conv2D` layer does the convolution and the `MaxPooling2D` layer downsamples the image by taking the maximum from a group of 2x2 pixels. `Flatten` is required for image classification as it flattens the output layer into an 1D array. Then the output layer has 10 nodes for the 10 different possible outputs (i.e. the 10 digits 1,2,3...)"
   ]
  },
  {
   "cell_type": "code",
   "execution_count": 4,
   "metadata": {
    "id": "T721-I1BEIpc"
   },
   "outputs": [],
   "source": [
    "model = keras.models.Sequential()\n",
    "model.add(keras.layers.Conv2D(8,3, activation='relu', input_shape=(28, 28, 1)))\n",
    "model.add(keras.layers.MaxPooling2D(pool_size=2))\n",
    "model.add(keras.layers.Flatten())\n",
    "model.add(keras.layers.Dense(10))"
   ]
  },
  {
   "cell_type": "markdown",
   "metadata": {
    "id": "gnsH-0sGVELO"
   },
   "source": [
    "Outputting the network layers."
   ]
  },
  {
   "cell_type": "code",
   "execution_count": 5,
   "metadata": {
    "colab": {
     "base_uri": "https://localhost:8080/"
    },
    "id": "McYkYcj4EJie",
    "outputId": "1715b94c-b245-4531-e569-c2c5ae305124"
   },
   "outputs": [
    {
     "name": "stdout",
     "output_type": "stream",
     "text": [
      "Model: \"sequential\"\n",
      "_________________________________________________________________\n",
      "Layer (type)                 Output Shape              Param #   \n",
      "=================================================================\n",
      "conv2d (Conv2D)              (None, 26, 26, 8)         80        \n",
      "_________________________________________________________________\n",
      "max_pooling2d (MaxPooling2D) (None, 13, 13, 8)         0         \n",
      "_________________________________________________________________\n",
      "flatten (Flatten)            (None, 1352)              0         \n",
      "_________________________________________________________________\n",
      "dense (Dense)                (None, 10)                13530     \n",
      "=================================================================\n",
      "Total params: 13,610\n",
      "Trainable params: 13,610\n",
      "Non-trainable params: 0\n",
      "_________________________________________________________________\n"
     ]
    }
   ],
   "source": [
    "model.summary()"
   ]
  },
  {
   "cell_type": "markdown",
   "metadata": {
    "id": "DJ1eK5H2VGq_"
   },
   "source": [
    "Reshaping the training images and testing images in order for the keras functions to work."
   ]
  },
  {
   "cell_type": "code",
   "execution_count": 6,
   "metadata": {
    "id": "L-D_UYOgVIfj"
   },
   "outputs": [],
   "source": [
    "train_images, test_images = train_images.reshape(-1,28,28,1), test_images.reshape(-1,28,28,1) #reshaping the input shape for keras"
   ]
  },
  {
   "cell_type": "markdown",
   "metadata": {
    "id": "O5juPnKgVe1w"
   },
   "source": [
    "Compiling and training the model and comparing the trained model with the test images after each step."
   ]
  },
  {
   "cell_type": "code",
   "execution_count": 7,
   "metadata": {
    "colab": {
     "base_uri": "https://localhost:8080/"
    },
    "id": "1GHkBqm-H0FH",
    "outputId": "67df7852-467a-4561-e493-217f614e779f"
   },
   "outputs": [
    {
     "name": "stdout",
     "output_type": "stream",
     "text": [
      "Epoch 1/10\n",
      "1875/1875 [==============================] - 18s 9ms/step - loss: 1.2815 - accuracy: 0.9107 - val_loss: 0.2165 - val_accuracy: 0.9544\n",
      "Epoch 2/10\n",
      "1875/1875 [==============================] - 17s 9ms/step - loss: 0.1530 - accuracy: 0.9609 - val_loss: 0.1395 - val_accuracy: 0.9636\n",
      "Epoch 3/10\n",
      "1875/1875 [==============================] - 17s 9ms/step - loss: 0.1009 - accuracy: 0.9707 - val_loss: 0.1018 - val_accuracy: 0.9696\n",
      "Epoch 4/10\n",
      "1875/1875 [==============================] - 17s 9ms/step - loss: 0.0874 - accuracy: 0.9741 - val_loss: 0.0988 - val_accuracy: 0.9711\n",
      "Epoch 5/10\n",
      "1875/1875 [==============================] - 17s 9ms/step - loss: 0.0791 - accuracy: 0.9754 - val_loss: 0.0975 - val_accuracy: 0.9714\n",
      "Epoch 6/10\n",
      "1875/1875 [==============================] - 17s 9ms/step - loss: 0.0719 - accuracy: 0.9780 - val_loss: 0.0974 - val_accuracy: 0.9742\n",
      "Epoch 7/10\n",
      "1875/1875 [==============================] - 17s 9ms/step - loss: 0.0653 - accuracy: 0.9796 - val_loss: 0.1174 - val_accuracy: 0.9734\n",
      "Epoch 8/10\n",
      "1875/1875 [==============================] - 17s 9ms/step - loss: 0.0597 - accuracy: 0.9812 - val_loss: 0.1301 - val_accuracy: 0.9706\n",
      "Epoch 9/10\n",
      "1875/1875 [==============================] - 17s 9ms/step - loss: 0.0568 - accuracy: 0.9826 - val_loss: 0.1248 - val_accuracy: 0.9724\n",
      "Epoch 10/10\n",
      "1875/1875 [==============================] - 17s 9ms/step - loss: 0.0511 - accuracy: 0.9844 - val_loss: 0.1352 - val_accuracy: 0.9711\n"
     ]
    }
   ],
   "source": [
    "model.compile(optimizer='adam',loss=tf.keras.losses.SparseCategoricalCrossentropy(from_logits=True),metrics=['accuracy'])\n",
    "history = model.fit(train_images, train_labels, epochs=10, validation_data=(test_images, test_labels))"
   ]
  },
  {
   "cell_type": "markdown",
   "metadata": {
    "id": "FEPjnRbsVqw7"
   },
   "source": [
    "The results show that the accuracy is 98.44% on the training dataset, and 97.11% on the testing dataset. However, after the fourth epoch, there is a plateau in the testing accuracy. This suggests that this model with only 1 convolution layer can only achieve a maximum testing accuracy of around ~97.5% even with more training. This can be seen in the val_accuracy values as further training will just result in fluctuations around ~97.0% - 97.5%"
   ]
  },
  {
   "cell_type": "code",
   "execution_count": 8,
   "metadata": {
    "colab": {
     "base_uri": "https://localhost:8080/",
     "height": 300
    },
    "id": "uv9Sg2VWH1Km",
    "outputId": "48054d19-f65f-42a7-ce33-de7025eaddd9"
   },
   "outputs": [
    {
     "name": "stdout",
     "output_type": "stream",
     "text": [
      "313/313 - 1s - loss: 0.1352 - accuracy: 0.9711\n"
     ]
    },
    {
     "data": {
      "image/png": "[encoded data removed]",
      "text/plain": [
       "<Figure size 432x288 with 1 Axes>"
      ]
     },
     "metadata": {
      "needs_background": "light"
     },
     "output_type": "display_data"
    }
   ],
   "source": [
    "plt.plot(history.history['accuracy'], label='accuracy')\n",
    "plt.plot(history.history['val_accuracy'], label = 'val_accuracy')\n",
    "plt.xlabel('Epoch')\n",
    "plt.ylabel('Accuracy')\n",
    "plt.ylim([0.9, 1])\n",
    "plt.legend(loc='lower right')\n",
    "\n",
    "test_loss, test_acc = model.evaluate(test_images,  test_labels, verbose=2)"
   ]
  },
  {
   "cell_type": "markdown",
   "metadata": {
    "id": "L4SUff7_WrxT"
   },
   "source": [
    "## Task 2 \n",
    "In this task, multiple convolutional layers are allowed in the neural network. I decided to use 4 convolutional layers. Overall, the network structure is similar to the network with only 1 convolutional layer, but with multiple convolutional layers. "
   ]
  },
  {
   "cell_type": "code",
   "execution_count": 9,
   "metadata": {
    "colab": {
     "base_uri": "https://localhost:8080/"
    },
    "id": "gpkTWu8ccF-U",
    "outputId": "3a51af89-69d0-42f9-d72c-677b4805f660"
   },
   "outputs": [
    {
     "name": "stdout",
     "output_type": "stream",
     "text": [
      "Model: \"sequential_1\"\n",
      "_________________________________________________________________\n",
      "Layer (type)                 Output Shape              Param #   \n",
      "=================================================================\n",
      "conv2d_1 (Conv2D)            (None, 26, 26, 8)         80        \n",
      "_________________________________________________________________\n",
      "max_pooling2d_1 (MaxPooling2 (None, 13, 13, 8)         0         \n",
      "_________________________________________________________________\n",
      "conv2d_2 (Conv2D)            (None, 11, 11, 8)         584       \n",
      "_________________________________________________________________\n",
      "conv2d_3 (Conv2D)            (None, 9, 9, 8)           584       \n",
      "_________________________________________________________________\n",
      "flatten_1 (Flatten)          (None, 648)               0         \n",
      "_________________________________________________________________\n",
      "dense_1 (Dense)              (None, 10)                6490      \n",
      "=================================================================\n",
      "Total params: 7,738\n",
      "Trainable params: 7,738\n",
      "Non-trainable params: 0\n",
      "_________________________________________________________________\n"
     ]
    }
   ],
   "source": [
    "model1 = keras.models.Sequential()\n",
    "model1.add(keras.layers.Conv2D(8, 3, activation='relu', input_shape=(28, 28, 1)))\n",
    "model1.add(keras.layers.MaxPooling2D(pool_size=2))\n",
    "model1.add(keras.layers.Conv2D(8, 3, activation='relu'))\n",
    "model1.add(keras.layers.Conv2D(8, 3, activation='relu'))\n",
    "model1.add(keras.layers.Flatten())\n",
    "model1.add(keras.layers.Dense(10))\n",
    "model1.summary()"
   ]
  },
  {
   "cell_type": "markdown",
   "metadata": {
    "id": "wydv9sX7W-5n"
   },
   "source": [
    "The model `model1` is compiled and trained."
   ]
  },
  {
   "cell_type": "code",
   "execution_count": 10,
   "metadata": {
    "colab": {
     "base_uri": "https://localhost:8080/"
    },
    "id": "4eeQ9D9-dfMU",
    "outputId": "77ecbf64-be7f-49a0-c275-cbd49de2ae1f"
   },
   "outputs": [
    {
     "name": "stdout",
     "output_type": "stream",
     "text": [
      "Epoch 1/10\n",
      "1875/1875 [==============================] - 26s 13ms/step - loss: 0.9491 - accuracy: 0.8739 - val_loss: 0.1684 - val_accuracy: 0.9505\n",
      "Epoch 2/10\n",
      "1875/1875 [==============================] - 25s 13ms/step - loss: 0.1395 - accuracy: 0.9586 - val_loss: 0.0973 - val_accuracy: 0.9694\n",
      "Epoch 3/10\n",
      "1875/1875 [==============================] - 25s 13ms/step - loss: 0.0965 - accuracy: 0.9707 - val_loss: 0.0862 - val_accuracy: 0.9751\n",
      "Epoch 4/10\n",
      "1875/1875 [==============================] - 25s 13ms/step - loss: 0.0730 - accuracy: 0.9778 - val_loss: 0.0776 - val_accuracy: 0.9772\n",
      "Epoch 5/10\n",
      "1875/1875 [==============================] - 25s 14ms/step - loss: 0.0604 - accuracy: 0.9808 - val_loss: 0.0695 - val_accuracy: 0.9793\n",
      "Epoch 6/10\n",
      "1875/1875 [==============================] - 25s 13ms/step - loss: 0.0535 - accuracy: 0.9827 - val_loss: 0.0574 - val_accuracy: 0.9835\n",
      "Epoch 7/10\n",
      "1875/1875 [==============================] - 25s 13ms/step - loss: 0.0465 - accuracy: 0.9855 - val_loss: 0.0587 - val_accuracy: 0.9828\n",
      "Epoch 8/10\n",
      "1875/1875 [==============================] - 25s 13ms/step - loss: 0.0416 - accuracy: 0.9868 - val_loss: 0.0582 - val_accuracy: 0.9840\n",
      "Epoch 9/10\n",
      "1875/1875 [==============================] - 25s 13ms/step - loss: 0.0377 - accuracy: 0.9882 - val_loss: 0.0676 - val_accuracy: 0.9827\n",
      "Epoch 10/10\n",
      "1875/1875 [==============================] - 26s 14ms/step - loss: 0.0358 - accuracy: 0.9885 - val_loss: 0.0604 - val_accuracy: 0.9836\n"
     ]
    }
   ],
   "source": [
    "model1.compile(optimizer='adam',loss=tf.keras.losses.SparseCategoricalCrossentropy(from_logits=True),metrics=['accuracy'])\n",
    "\n",
    "history = model1.fit(train_images, train_labels, epochs=10, validation_data=(test_images, test_labels))"
   ]
  },
  {
   "cell_type": "markdown",
   "metadata": {
    "id": "ZQGGQ8j-XHtj"
   },
   "source": [
    "The results show that for the multiple convolution layer network, the accuracy is 98.90% on the training dataset, and 98.34% on the testing dataset. Looking at the training data, it can be seen that after the 6th epoch, the testing accuracy starts to plateau, this suggests that even with more training, this network can only achieve a maximum testing accuracy of around 98.4%. \n",
    "\n",
    "(1 convolution layer network value on left, 3 convolution layer network on right)\n",
    "- **Final training data set accuracy**: 98.44% vs 98.90%\n",
    "\n",
    "- **Final testing data set accuracy**: 97.11% (Max 97.42%) vs 98.36% (Max 98.40%)\n",
    "\n",
    "Therefore, by adding more convolution layers, it resulted in a 1.25% increase in accuracy for the testing data set, which is the accuracy that we should be more interested in. Testing data set accuracy is more important because the model is being trained on the training data set, so the model has already seen the training data set.\n",
    "\n",
    "The training time taken for the second neural network takes around 50% longer compared to the first."
   ]
  },
  {
   "cell_type": "code",
   "execution_count": 11,
   "metadata": {
    "colab": {
     "base_uri": "https://localhost:8080/",
     "height": 300
    },
    "id": "U9dHeR0ndif0",
    "outputId": "f716ed4e-125b-4adc-9a17-12e828c113d1"
   },
   "outputs": [
    {
     "name": "stdout",
     "output_type": "stream",
     "text": [
      "313/313 - 1s - loss: 0.0604 - accuracy: 0.9836\n"
     ]
    },
    {
     "data": {
      "image/png": "[encoded data removed]",
      "text/plain": [
       "<Figure size 432x288 with 1 Axes>"
      ]
     },
     "metadata": {
      "needs_background": "light"
     },
     "output_type": "display_data"
    }
   ],
   "source": [
    "plt.plot(history.history['accuracy'], label='accuracy')\n",
    "plt.plot(history.history['val_accuracy'], label = 'val_accuracy')\n",
    "plt.xlabel('Epoch')\n",
    "plt.ylabel('Accuracy')\n",
    "plt.ylim([0.9, 1])\n",
    "plt.legend(loc='lower right')\n",
    "\n",
    "test_loss, test_acc = model1.evaluate(test_images,  test_labels, verbose=2)"
   ]
  },
  {
   "cell_type": "code",
   "execution_count": 11,
   "metadata": {
    "id": "F6aJNZN-YgEk"
   },
   "outputs": [],
   "source": []
  }
 ],
 "metadata": {
  "colab": {
   "collapsed_sections": [],
   "name": "MNIST_CNN_19010988.ipynb",
   "provenance": []
  },
  "kernelspec": {
   "display_name": "Python 3",
   "language": "python",
   "name": "python3"
  },
  "language_info": {
   "codemirror_mode": {
    "name": "ipython",
    "version": 3
   },
   "file_extension": ".py",
   "mimetype": "text/x-python",
   "name": "python",
   "nbconvert_exporter": "python",
   "pygments_lexer": "ipython3",
   "version": "3.8.8"
  }
 },
 "nbformat": 4,
 "nbformat_minor": 1
}
